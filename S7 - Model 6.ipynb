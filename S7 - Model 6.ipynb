{
 "cells": [
  {
   "attachments": {},
   "cell_type": "markdown",
   "metadata": {},
   "source": [
    "# Overview\n",
    "\n",
    "## Target:\n",
    "    - Add more layers after GAP layer to try and capture more features\n",
    "\n",
    "## Result:\n",
    "    - Parameters : `7,370`\n",
    "    - Best Training Accuracy : `98.48`\n",
    "    - Best Test Accuracy : `99.24`\n",
    "\n",
    "## Analysis:\n",
    "    - The model is still underfitting \n",
    "    - The accuracy has gone down\n"
   ]
  },
  {
   "cell_type": "code",
   "execution_count": 5,
   "metadata": {},
   "outputs": [
    {
     "name": "stdout",
     "output_type": "stream",
     "text": [
      "Requirement already satisfied: torchsummary in c:\\users\\shash\\anaconda3\\lib\\site-packages (1.5.1)\n",
      "Note: you may need to restart the kernel to use updated packages.\n"
     ]
    }
   ],
   "source": [
    "import torch\n",
    "import torch.optim as optim\n",
    "from torchvision import datasets, transforms\n",
    "import torch.nn as nn\n",
    "import torch.nn.functional as F\n",
    "from model import Model_6\n",
    "from utils import train, test\n",
    "\n",
    "%pip install torchsummary\n",
    "from torchsummary import summary\n",
    "\n",
    "import os\n",
    "os.environ['KMP_DUPLICATE_LIB_OK']='True'"
   ]
  },
  {
   "cell_type": "code",
   "execution_count": 6,
   "metadata": {},
   "outputs": [
    {
     "name": "stdout",
     "output_type": "stream",
     "text": [
      "cuda\n",
      "----------------------------------------------------------------\n",
      "        Layer (type)               Output Shape         Param #\n",
      "================================================================\n",
      "            Conv2d-1            [-1, 8, 26, 26]              80\n",
      "              ReLU-2            [-1, 8, 26, 26]               0\n",
      "       BatchNorm2d-3            [-1, 8, 26, 26]              16\n",
      "           Dropout-4            [-1, 8, 26, 26]               0\n",
      "            Conv2d-5           [-1, 16, 24, 24]           1,168\n",
      "              ReLU-6           [-1, 16, 24, 24]               0\n",
      "       BatchNorm2d-7           [-1, 16, 24, 24]              32\n",
      "           Dropout-8           [-1, 16, 24, 24]               0\n",
      "            Conv2d-9           [-1, 16, 22, 22]           2,320\n",
      "             ReLU-10           [-1, 16, 22, 22]               0\n",
      "      BatchNorm2d-11           [-1, 16, 22, 22]              32\n",
      "          Dropout-12           [-1, 16, 22, 22]               0\n",
      "        MaxPool2d-13           [-1, 16, 11, 11]               0\n",
      "           Conv2d-14           [-1, 16, 11, 11]             272\n",
      "             ReLU-15           [-1, 16, 11, 11]               0\n",
      "          Dropout-16           [-1, 16, 11, 11]               0\n",
      "           Conv2d-17              [-1, 8, 9, 9]           1,160\n",
      "             ReLU-18              [-1, 8, 9, 9]               0\n",
      "      BatchNorm2d-19              [-1, 8, 9, 9]              16\n",
      "          Dropout-20              [-1, 8, 9, 9]               0\n",
      "           Conv2d-21              [-1, 8, 7, 7]             584\n",
      "             ReLU-22              [-1, 8, 7, 7]               0\n",
      "      BatchNorm2d-23              [-1, 8, 7, 7]              16\n",
      "          Dropout-24              [-1, 8, 7, 7]               0\n",
      "           Conv2d-25             [-1, 16, 5, 5]           1,168\n",
      "             ReLU-26             [-1, 16, 5, 5]               0\n",
      "      BatchNorm2d-27             [-1, 16, 5, 5]              32\n",
      "          Dropout-28             [-1, 16, 5, 5]               0\n",
      "        AvgPool2d-29             [-1, 16, 1, 1]               0\n",
      "           Conv2d-30             [-1, 16, 1, 1]             272\n",
      "             ReLU-31             [-1, 16, 1, 1]               0\n",
      "      BatchNorm2d-32             [-1, 16, 1, 1]              32\n",
      "          Dropout-33             [-1, 16, 1, 1]               0\n",
      "           Conv2d-34             [-1, 10, 1, 1]             170\n",
      "================================================================\n",
      "Total params: 7,370\n",
      "Trainable params: 7,370\n",
      "Non-trainable params: 0\n",
      "----------------------------------------------------------------\n",
      "Input size (MB): 0.00\n",
      "Forward/backward pass size (MB): 0.79\n",
      "Params size (MB): 0.03\n",
      "Estimated Total Size (MB): 0.82\n",
      "----------------------------------------------------------------\n"
     ]
    }
   ],
   "source": [
    "use_cuda = torch.cuda.is_available()\n",
    "device = torch.device(\"cuda\" if use_cuda else \"cpu\")\n",
    "print(device)\n",
    "model = Model_6().to(device)\n",
    "summary(model, input_size=(1, 28, 28))"
   ]
  },
  {
   "cell_type": "code",
   "execution_count": 7,
   "metadata": {},
   "outputs": [],
   "source": [
    "torch.manual_seed(1)\n",
    "batch_size = 128\n",
    "\n",
    "kwargs = {'num_workers': 1, 'pin_memory': True} if use_cuda else {}\n",
    "train_loader = torch.utils.data.DataLoader(\n",
    "    datasets.MNIST('../data', train=True, download=True,\n",
    "                    transform=transforms.Compose([\n",
    "                        transforms.RandomRotation((-10.0, 10.0), fill=(1,)),\n",
    "                        transforms.ToTensor(),\n",
    "                        transforms.Normalize((0.1307,), (0.3081,))\n",
    "                    ])),\n",
    "    batch_size=batch_size, shuffle=True, **kwargs)\n",
    "test_loader = torch.utils.data.DataLoader(\n",
    "    datasets.MNIST('../data', train=False, transform=transforms.Compose([\n",
    "                        transforms.ToTensor(),\n",
    "                        transforms.Normalize((0.1307,), (0.3081,))\n",
    "                    ])),\n",
    "    batch_size=batch_size, shuffle=True, **kwargs)"
   ]
  },
  {
   "cell_type": "code",
   "execution_count": 8,
   "metadata": {},
   "outputs": [
    {
     "name": "stderr",
     "output_type": "stream",
     "text": [
      "  0%|          | 0/469 [00:00<?, ?it/s]"
     ]
    },
    {
     "name": "stderr",
     "output_type": "stream",
     "text": [
      "Train: Loss=0.2149 Batch_id=468 Accuracy=86.64: 100%|██████████| 469/469 [00:34<00:00, 13.52it/s]\n"
     ]
    },
    {
     "name": "stdout",
     "output_type": "stream",
     "text": [
      "Train set: Accuracy: 86.64%\n",
      "Test set: Accuracy: 97.87%\n",
      "0.01 2\n"
     ]
    },
    {
     "name": "stderr",
     "output_type": "stream",
     "text": [
      "Train: Loss=0.1933 Batch_id=468 Accuracy=96.02: 100%|██████████| 469/469 [00:33<00:00, 13.93it/s]\n"
     ]
    },
    {
     "name": "stdout",
     "output_type": "stream",
     "text": [
      "Train set: Accuracy: 96.02%\n",
      "Test set: Accuracy: 98.25%\n",
      "0.01 3\n"
     ]
    },
    {
     "name": "stderr",
     "output_type": "stream",
     "text": [
      "Train: Loss=0.1177 Batch_id=468 Accuracy=96.67: 100%|██████████| 469/469 [00:24<00:00, 19.15it/s]\n"
     ]
    },
    {
     "name": "stdout",
     "output_type": "stream",
     "text": [
      "Train set: Accuracy: 96.67%\n",
      "Test set: Accuracy: 98.66%\n",
      "0.01 4\n"
     ]
    },
    {
     "name": "stderr",
     "output_type": "stream",
     "text": [
      "Train: Loss=0.0916 Batch_id=468 Accuracy=97.14: 100%|██████████| 469/469 [00:27<00:00, 17.34it/s]\n"
     ]
    },
    {
     "name": "stdout",
     "output_type": "stream",
     "text": [
      "Train set: Accuracy: 97.14%\n",
      "Test set: Accuracy: 98.62%\n",
      "0.01 5\n"
     ]
    },
    {
     "name": "stderr",
     "output_type": "stream",
     "text": [
      "Train: Loss=0.1034 Batch_id=468 Accuracy=97.38: 100%|██████████| 469/469 [00:25<00:00, 18.55it/s]\n"
     ]
    },
    {
     "name": "stdout",
     "output_type": "stream",
     "text": [
      "Train set: Accuracy: 97.38%\n",
      "Test set: Accuracy: 98.78%\n",
      "0.01 6\n"
     ]
    },
    {
     "name": "stderr",
     "output_type": "stream",
     "text": [
      "Train: Loss=0.0675 Batch_id=468 Accuracy=97.35: 100%|██████████| 469/469 [00:23<00:00, 19.86it/s]\n"
     ]
    },
    {
     "name": "stdout",
     "output_type": "stream",
     "text": [
      "Train set: Accuracy: 97.35%\n",
      "Test set: Accuracy: 98.74%\n",
      "0.01 7\n"
     ]
    },
    {
     "name": "stderr",
     "output_type": "stream",
     "text": [
      "Train: Loss=0.0729 Batch_id=468 Accuracy=97.61: 100%|██████████| 469/469 [00:22<00:00, 20.39it/s]\n"
     ]
    },
    {
     "name": "stdout",
     "output_type": "stream",
     "text": [
      "Train set: Accuracy: 97.61%\n",
      "Test set: Accuracy: 98.84%\n",
      "0.01 8\n"
     ]
    },
    {
     "name": "stderr",
     "output_type": "stream",
     "text": [
      "Train: Loss=0.0618 Batch_id=468 Accuracy=97.67: 100%|██████████| 469/469 [00:24<00:00, 19.10it/s]\n"
     ]
    },
    {
     "name": "stdout",
     "output_type": "stream",
     "text": [
      "Train set: Accuracy: 97.67%\n",
      "Test set: Accuracy: 98.87%\n",
      "0.01 9\n"
     ]
    },
    {
     "name": "stderr",
     "output_type": "stream",
     "text": [
      "Train: Loss=0.0547 Batch_id=468 Accuracy=97.79: 100%|██████████| 469/469 [00:22<00:00, 20.65it/s]\n"
     ]
    },
    {
     "name": "stdout",
     "output_type": "stream",
     "text": [
      "Train set: Accuracy: 97.79%\n",
      "Test set: Accuracy: 99.06%\n",
      "0.01 10\n"
     ]
    },
    {
     "name": "stderr",
     "output_type": "stream",
     "text": [
      "Train: Loss=0.0785 Batch_id=468 Accuracy=97.80: 100%|██████████| 469/469 [00:23<00:00, 19.72it/s]\n"
     ]
    },
    {
     "name": "stdout",
     "output_type": "stream",
     "text": [
      "Train set: Accuracy: 97.80%\n",
      "Test set: Accuracy: 99.01%\n",
      "0.01 11\n"
     ]
    },
    {
     "name": "stderr",
     "output_type": "stream",
     "text": [
      "Train: Loss=0.1443 Batch_id=468 Accuracy=97.89: 100%|██████████| 469/469 [00:23<00:00, 20.01it/s]\n"
     ]
    },
    {
     "name": "stdout",
     "output_type": "stream",
     "text": [
      "Train set: Accuracy: 97.89%\n",
      "Test set: Accuracy: 99.07%\n",
      "0.01 12\n"
     ]
    },
    {
     "name": "stderr",
     "output_type": "stream",
     "text": [
      "Train: Loss=0.0661 Batch_id=468 Accuracy=97.91: 100%|██████████| 469/469 [00:23<00:00, 19.62it/s]\n"
     ]
    },
    {
     "name": "stdout",
     "output_type": "stream",
     "text": [
      "Train set: Accuracy: 97.91%\n",
      "Test set: Accuracy: 99.08%\n",
      "0.001 13\n"
     ]
    },
    {
     "name": "stderr",
     "output_type": "stream",
     "text": [
      "Train: Loss=0.0333 Batch_id=468 Accuracy=98.14: 100%|██████████| 469/469 [00:22<00:00, 20.52it/s]\n"
     ]
    },
    {
     "name": "stdout",
     "output_type": "stream",
     "text": [
      "Train set: Accuracy: 98.14%\n",
      "Test set: Accuracy: 99.13%\n",
      "0.001 14\n"
     ]
    },
    {
     "name": "stderr",
     "output_type": "stream",
     "text": [
      "Train: Loss=0.0480 Batch_id=468 Accuracy=98.26: 100%|██████████| 469/469 [00:23<00:00, 20.26it/s]\n"
     ]
    },
    {
     "name": "stdout",
     "output_type": "stream",
     "text": [
      "Train set: Accuracy: 98.26%\n",
      "Test set: Accuracy: 99.19%\n",
      "0.001 15\n"
     ]
    }
   ],
   "source": [
    "model_6 = Model_6().to(device)\n",
    "optimizer = optim.SGD(model.parameters(), lr=0.01, momentum=0.9)\n",
    "scheduler = torch.optim.lr_scheduler.ExponentialLR(optimizer, gamma = 0.1)\n",
    "criterion = F.nll_loss\n",
    "\n",
    "# Data to plot accuracy and loss graphs\n",
    "train_losses = []\n",
    "test_losses = []\n",
    "train_acc = []\n",
    "test_acc = []\n",
    "for epoch in range(1, 15):\n",
    "    train_acc,train_losses = train(model, device, train_loader, optimizer, criterion, train_acc, train_losses)\n",
    "    test_acc, test_losses = test(model, device, test_loader, criterion, test_acc, test_losses)\n",
    "    if(epoch==12):\n",
    "      scheduler.step()\n",
    "    for param_group in optimizer.param_groups:\n",
    "      print(param_group['lr'],epoch+1)"
   ]
  }
 ],
 "metadata": {
  "kernelspec": {
   "display_name": "base",
   "language": "python",
   "name": "python3"
  },
  "language_info": {
   "codemirror_mode": {
    "name": "ipython",
    "version": 3
   },
   "file_extension": ".py",
   "mimetype": "text/x-python",
   "name": "python",
   "nbconvert_exporter": "python",
   "pygments_lexer": "ipython3",
   "version": "3.9.16"
  },
  "orig_nbformat": 4
 },
 "nbformat": 4,
 "nbformat_minor": 2
}
