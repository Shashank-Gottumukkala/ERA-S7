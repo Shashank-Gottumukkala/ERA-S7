{
 "cells": [
  {
   "cell_type": "code",
   "execution_count": null,
   "metadata": {},
   "outputs": [],
   "source": []
  },
  {
   "attachments": {},
   "cell_type": "markdown",
   "metadata": {},
   "source": [
    "# Overview\n",
    "\n",
    "## Target:\n",
    "    - To get the setup right\n",
    "\n",
    "## Result:\n",
    "    - Parameters : \n",
    "    - Best Training Accuracy\n",
    "    - Best Test Accuracy\n",
    "\n",
    "## Analysis:\n",
    "    - \n"
   ]
  },
  {
   "cell_type": "code",
   "execution_count": 1,
   "metadata": {},
   "outputs": [
    {
     "name": "stdout",
     "output_type": "stream",
     "text": [
      "Requirement already satisfied: torchsummary in c:\\users\\shash\\anaconda3\\lib\\site-packages (1.5.1)\n",
      "Note: you may need to restart the kernel to use updated packages.\n"
     ]
    }
   ],
   "source": [
    "import torch\n",
    "import torch.optim as optim\n",
    "from torchvision import datasets, transforms\n",
    "import torch.nn as nn\n",
    "import torch.nn.functional as F\n",
    "from model import Model_6\n",
    "from utils import train, test\n",
    "\n",
    "%pip install torchsummary\n",
    "from torchsummary import summary\n",
    "\n",
    "import os\n",
    "os.environ['KMP_DUPLICATE_LIB_OK']='True'"
   ]
  },
  {
   "cell_type": "code",
   "execution_count": 2,
   "metadata": {},
   "outputs": [
    {
     "name": "stdout",
     "output_type": "stream",
     "text": [
      "cuda\n",
      "----------------------------------------------------------------\n",
      "        Layer (type)               Output Shape         Param #\n",
      "================================================================\n",
      "            Conv2d-1            [-1, 4, 26, 26]              40\n",
      "              ReLU-2            [-1, 4, 26, 26]               0\n",
      "           Dropout-3            [-1, 4, 26, 26]               0\n",
      "       BatchNorm2d-4            [-1, 4, 26, 26]               8\n",
      "            Conv2d-5            [-1, 8, 24, 24]             296\n",
      "              ReLU-6            [-1, 8, 24, 24]               0\n",
      "           Dropout-7            [-1, 8, 24, 24]               0\n",
      "       BatchNorm2d-8            [-1, 8, 24, 24]              16\n",
      "            Conv2d-9            [-1, 8, 22, 22]             584\n",
      "             ReLU-10            [-1, 8, 22, 22]               0\n",
      "          Dropout-11            [-1, 8, 22, 22]               0\n",
      "      BatchNorm2d-12            [-1, 8, 22, 22]              16\n",
      "        MaxPool2d-13            [-1, 8, 11, 11]               0\n",
      "           Conv2d-14            [-1, 8, 11, 11]              72\n",
      "             ReLU-15            [-1, 8, 11, 11]               0\n",
      "          Dropout-16            [-1, 8, 11, 11]               0\n",
      "      BatchNorm2d-17            [-1, 8, 11, 11]              16\n",
      "           Conv2d-18              [-1, 8, 9, 9]             584\n",
      "             ReLU-19              [-1, 8, 9, 9]               0\n",
      "          Dropout-20              [-1, 8, 9, 9]               0\n",
      "      BatchNorm2d-21              [-1, 8, 9, 9]              16\n",
      "           Conv2d-22             [-1, 16, 7, 7]           1,168\n",
      "             ReLU-23             [-1, 16, 7, 7]               0\n",
      "          Dropout-24             [-1, 16, 7, 7]               0\n",
      "      BatchNorm2d-25             [-1, 16, 7, 7]              32\n",
      "           Conv2d-26             [-1, 16, 5, 5]           2,320\n",
      "             ReLU-27             [-1, 16, 5, 5]               0\n",
      "          Dropout-28             [-1, 16, 5, 5]               0\n",
      "      BatchNorm2d-29             [-1, 16, 5, 5]              32\n",
      "        AvgPool2d-30             [-1, 16, 1, 1]               0\n",
      "           Conv2d-31             [-1, 16, 1, 1]             272\n",
      "================================================================\n",
      "Total params: 5,472\n",
      "Trainable params: 5,472\n",
      "Non-trainable params: 0\n",
      "----------------------------------------------------------------\n",
      "Input size (MB): 0.00\n",
      "Forward/backward pass size (MB): 0.43\n",
      "Params size (MB): 0.02\n",
      "Estimated Total Size (MB): 0.46\n",
      "----------------------------------------------------------------\n"
     ]
    }
   ],
   "source": [
    "use_cuda = torch.cuda.is_available()\n",
    "device = torch.device(\"cuda\" if use_cuda else \"cpu\")\n",
    "print(device)\n",
    "model = Model_6().to(device)\n",
    "summary(model, input_size=(1, 28, 28))"
   ]
  },
  {
   "cell_type": "code",
   "execution_count": 3,
   "metadata": {},
   "outputs": [],
   "source": [
    "torch.manual_seed(1)\n",
    "batch_size = 128\n",
    "\n",
    "kwargs = {'num_workers': 1, 'pin_memory': True} if use_cuda else {}\n",
    "train_loader = torch.utils.data.DataLoader(\n",
    "    datasets.MNIST('../data', train=True, download=True,\n",
    "                    transform=transforms.Compose([\n",
    "                        transforms.RandomRotation((-10.0, 10.0), fill=(1,)),\n",
    "                        transforms.ToTensor(),\n",
    "                        transforms.Normalize((0.1307,), (0.3081,))\n",
    "                    ])),\n",
    "    batch_size=batch_size, shuffle=True, **kwargs)\n",
    "test_loader = torch.utils.data.DataLoader(\n",
    "    datasets.MNIST('../data', train=False, transform=transforms.Compose([\n",
    "                        transforms.ToTensor(),\n",
    "                        transforms.Normalize((0.1307,), (0.3081,))\n",
    "                    ])),\n",
    "    batch_size=batch_size, shuffle=True, **kwargs)"
   ]
  },
  {
   "cell_type": "code",
   "execution_count": 4,
   "metadata": {},
   "outputs": [
    {
     "name": "stderr",
     "output_type": "stream",
     "text": [
      "  0%|          | 0/469 [00:00<?, ?it/s]"
     ]
    },
    {
     "name": "stderr",
     "output_type": "stream",
     "text": [
      "Train: Loss=0.2312 Batch_id=468 Accuracy=77.51: 100%|██████████| 469/469 [00:28<00:00, 16.62it/s]\n"
     ]
    },
    {
     "name": "stdout",
     "output_type": "stream",
     "text": [
      "Train set: Accuracy: 77.51%\n",
      "Test set: Accuracy: 95.68%\n",
      "0.01 2\n"
     ]
    },
    {
     "name": "stderr",
     "output_type": "stream",
     "text": [
      "Train: Loss=0.1919 Batch_id=468 Accuracy=94.66: 100%|██████████| 469/469 [00:29<00:00, 15.72it/s]\n"
     ]
    },
    {
     "name": "stdout",
     "output_type": "stream",
     "text": [
      "Train set: Accuracy: 94.66%\n",
      "Test set: Accuracy: 97.75%\n",
      "0.01 3\n"
     ]
    },
    {
     "name": "stderr",
     "output_type": "stream",
     "text": [
      "Train: Loss=0.1673 Batch_id=468 Accuracy=96.11: 100%|██████████| 469/469 [00:27<00:00, 16.83it/s]\n"
     ]
    },
    {
     "name": "stdout",
     "output_type": "stream",
     "text": [
      "Train set: Accuracy: 96.11%\n",
      "Test set: Accuracy: 98.14%\n",
      "0.01 4\n"
     ]
    },
    {
     "name": "stderr",
     "output_type": "stream",
     "text": [
      "Train: Loss=0.2452 Batch_id=468 Accuracy=96.56: 100%|██████████| 469/469 [00:23<00:00, 20.02it/s]\n"
     ]
    },
    {
     "name": "stdout",
     "output_type": "stream",
     "text": [
      "Train set: Accuracy: 96.56%\n",
      "Test set: Accuracy: 98.66%\n",
      "0.01 5\n"
     ]
    },
    {
     "name": "stderr",
     "output_type": "stream",
     "text": [
      "Train: Loss=0.1228 Batch_id=468 Accuracy=96.97: 100%|██████████| 469/469 [00:21<00:00, 21.75it/s]\n"
     ]
    },
    {
     "name": "stdout",
     "output_type": "stream",
     "text": [
      "Train set: Accuracy: 96.97%\n",
      "Test set: Accuracy: 98.83%\n",
      "0.01 6\n"
     ]
    },
    {
     "name": "stderr",
     "output_type": "stream",
     "text": [
      "Train: Loss=0.0508 Batch_id=468 Accuracy=97.14: 100%|██████████| 469/469 [00:21<00:00, 21.83it/s]\n"
     ]
    },
    {
     "name": "stdout",
     "output_type": "stream",
     "text": [
      "Train set: Accuracy: 97.14%\n",
      "Test set: Accuracy: 98.99%\n",
      "0.01 7\n"
     ]
    },
    {
     "name": "stderr",
     "output_type": "stream",
     "text": [
      "Train: Loss=0.1582 Batch_id=468 Accuracy=97.30: 100%|██████████| 469/469 [00:22<00:00, 20.54it/s]\n"
     ]
    },
    {
     "name": "stdout",
     "output_type": "stream",
     "text": [
      "Train set: Accuracy: 97.30%\n",
      "Test set: Accuracy: 99.04%\n",
      "0.01 8\n"
     ]
    },
    {
     "name": "stderr",
     "output_type": "stream",
     "text": [
      "Train: Loss=0.0116 Batch_id=468 Accuracy=97.52: 100%|██████████| 469/469 [00:22<00:00, 21.31it/s]\n"
     ]
    },
    {
     "name": "stdout",
     "output_type": "stream",
     "text": [
      "Train set: Accuracy: 97.52%\n",
      "Test set: Accuracy: 99.06%\n",
      "0.01 9\n"
     ]
    },
    {
     "name": "stderr",
     "output_type": "stream",
     "text": [
      "Train: Loss=0.0555 Batch_id=468 Accuracy=97.56: 100%|██████████| 469/469 [00:21<00:00, 21.44it/s]\n"
     ]
    },
    {
     "name": "stdout",
     "output_type": "stream",
     "text": [
      "Train set: Accuracy: 97.56%\n",
      "Test set: Accuracy: 99.07%\n",
      "0.01 10\n"
     ]
    },
    {
     "name": "stderr",
     "output_type": "stream",
     "text": [
      "Train: Loss=0.0260 Batch_id=468 Accuracy=97.64: 100%|██████████| 469/469 [00:22<00:00, 20.82it/s]\n"
     ]
    },
    {
     "name": "stdout",
     "output_type": "stream",
     "text": [
      "Train set: Accuracy: 97.64%\n",
      "Test set: Accuracy: 98.96%\n",
      "0.01 11\n"
     ]
    },
    {
     "name": "stderr",
     "output_type": "stream",
     "text": [
      "Train: Loss=0.0214 Batch_id=468 Accuracy=97.63: 100%|██████████| 469/469 [00:21<00:00, 21.36it/s]\n"
     ]
    },
    {
     "name": "stdout",
     "output_type": "stream",
     "text": [
      "Train set: Accuracy: 97.63%\n",
      "Test set: Accuracy: 99.04%\n",
      "0.01 12\n"
     ]
    },
    {
     "name": "stderr",
     "output_type": "stream",
     "text": [
      "Train: Loss=0.0957 Batch_id=468 Accuracy=97.76: 100%|██████████| 469/469 [00:22<00:00, 21.15it/s]\n"
     ]
    },
    {
     "name": "stdout",
     "output_type": "stream",
     "text": [
      "Train set: Accuracy: 97.76%\n",
      "Test set: Accuracy: 99.06%\n",
      "0.001 13\n"
     ]
    },
    {
     "name": "stderr",
     "output_type": "stream",
     "text": [
      "Train: Loss=0.0836 Batch_id=468 Accuracy=97.97: 100%|██████████| 469/469 [00:27<00:00, 17.04it/s]\n"
     ]
    },
    {
     "name": "stdout",
     "output_type": "stream",
     "text": [
      "Train set: Accuracy: 97.97%\n",
      "Test set: Accuracy: 99.20%\n",
      "0.001 14\n"
     ]
    },
    {
     "name": "stderr",
     "output_type": "stream",
     "text": [
      "Train: Loss=0.0071 Batch_id=468 Accuracy=98.06: 100%|██████████| 469/469 [00:26<00:00, 17.81it/s]\n"
     ]
    },
    {
     "name": "stdout",
     "output_type": "stream",
     "text": [
      "Train set: Accuracy: 98.06%\n",
      "Test set: Accuracy: 99.24%\n",
      "0.001 15\n"
     ]
    }
   ],
   "source": [
    "model_5 = Model_6().to(device)\n",
    "optimizer = optim.SGD(model.parameters(), lr=0.01, momentum=0.9)\n",
    "scheduler = torch.optim.lr_scheduler.ExponentialLR(optimizer, gamma = 0.1)\n",
    "criterion = F.nll_loss\n",
    "\n",
    "# Data to plot accuracy and loss graphs\n",
    "train_losses = []\n",
    "test_losses = []\n",
    "train_acc = []\n",
    "test_acc = []\n",
    "for epoch in range(1, 15):\n",
    "    train_acc,train_losses = train(model, device, train_loader, optimizer, criterion, train_acc, train_losses)\n",
    "    test_acc, test_losses = test(model, device, test_loader, criterion, test_acc, test_losses)\n",
    "    if(epoch==12):\n",
    "      scheduler.step()\n",
    "    for param_group in optimizer.param_groups:\n",
    "      print(param_group['lr'],epoch+1)"
   ]
  }
 ],
 "metadata": {
  "kernelspec": {
   "display_name": "base",
   "language": "python",
   "name": "python3"
  },
  "language_info": {
   "codemirror_mode": {
    "name": "ipython",
    "version": 3
   },
   "file_extension": ".py",
   "mimetype": "text/x-python",
   "name": "python",
   "nbconvert_exporter": "python",
   "pygments_lexer": "ipython3",
   "version": "3.9.16"
  },
  "orig_nbformat": 4
 },
 "nbformat": 4,
 "nbformat_minor": 2
}
