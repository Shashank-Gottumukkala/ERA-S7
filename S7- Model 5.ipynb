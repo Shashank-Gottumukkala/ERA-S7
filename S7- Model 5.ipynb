{
 "cells": [
  {
   "cell_type": "code",
   "execution_count": null,
   "metadata": {},
   "outputs": [],
   "source": []
  },
  {
   "attachments": {},
   "cell_type": "markdown",
   "metadata": {},
   "source": [
    "# Overview\n",
    "\n",
    "## Target:\n",
    "    - To get the setup right\n",
    "\n",
    "## Result:\n",
    "    - Parameters : \n",
    "    - Best Training Accuracy\n",
    "    - Best Test Accuracy\n",
    "\n",
    "## Analysis:\n",
    "    - \n"
   ]
  }
 ],
 "metadata": {
  "language_info": {
   "name": "python"
  },
  "orig_nbformat": 4
 },
 "nbformat": 4,
 "nbformat_minor": 2
}
