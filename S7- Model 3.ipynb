{
 "cells": [
  {
   "cell_type": "code",
   "execution_count": null,
   "metadata": {},
   "outputs": [],
   "source": []
  },
  {
   "attachments": {},
   "cell_type": "markdown",
   "metadata": {},
   "source": [
    "# Overview\n",
    "\n",
    "## Target:\n",
    "    - Reduce the number of parameters to under `8k`\n",
    "\n",
    "## Result:\n",
    "    - Parameters : 7,066\n",
    "    - Best Training Accuracy : `98.78'\n",
    "    - Best Test Accuracy : `99.28`\n",
    "\n",
    "## Analysis:\n",
    "    - The Model is starting to slowly underfit\n",
    "    - We should add data augmentation to possibly improve the model\n"
   ]
  },
  {
   "cell_type": "code",
   "execution_count": 1,
   "metadata": {},
   "outputs": [
    {
     "name": "stdout",
     "output_type": "stream",
     "text": [
      "Requirement already satisfied: torchsummary in c:\\users\\shash\\anaconda3\\lib\\site-packages (1.5.1)\n",
      "Note: you may need to restart the kernel to use updated packages.\n"
     ]
    }
   ],
   "source": [
    "import torch\n",
    "import torch.optim as optim\n",
    "from torchvision import datasets, transforms\n",
    "import torch.nn as nn\n",
    "import torch.nn.functional as F\n",
    "from model import Model_4\n",
    "from utils import train, test\n",
    "\n",
    "%pip install torchsummary\n",
    "from torchsummary import summary\n",
    "\n",
    "import os\n",
    "os.environ['KMP_DUPLICATE_LIB_OK']='True'"
   ]
  },
  {
   "cell_type": "code",
   "execution_count": 2,
   "metadata": {},
   "outputs": [
    {
     "name": "stdout",
     "output_type": "stream",
     "text": [
      "cuda\n",
      "----------------------------------------------------------------\n",
      "        Layer (type)               Output Shape         Param #\n",
      "================================================================\n",
      "            Conv2d-1            [-1, 8, 26, 26]              80\n",
      "              ReLU-2            [-1, 8, 26, 26]               0\n",
      "       BatchNorm2d-3            [-1, 8, 26, 26]              16\n",
      "           Dropout-4            [-1, 8, 26, 26]               0\n",
      "            Conv2d-5           [-1, 16, 24, 24]           1,168\n",
      "              ReLU-6           [-1, 16, 24, 24]               0\n",
      "       BatchNorm2d-7           [-1, 16, 24, 24]              32\n",
      "           Dropout-8           [-1, 16, 24, 24]               0\n",
      "            Conv2d-9           [-1, 16, 22, 22]           2,320\n",
      "             ReLU-10           [-1, 16, 22, 22]               0\n",
      "      BatchNorm2d-11           [-1, 16, 22, 22]              32\n",
      "          Dropout-12           [-1, 16, 22, 22]               0\n",
      "        MaxPool2d-13           [-1, 16, 11, 11]               0\n",
      "           Conv2d-14           [-1, 16, 11, 11]             272\n",
      "             ReLU-15           [-1, 16, 11, 11]               0\n",
      "          Dropout-16           [-1, 16, 11, 11]               0\n",
      "           Conv2d-17              [-1, 8, 9, 9]           1,160\n",
      "             ReLU-18              [-1, 8, 9, 9]               0\n",
      "      BatchNorm2d-19              [-1, 8, 9, 9]              16\n",
      "          Dropout-20              [-1, 8, 9, 9]               0\n",
      "           Conv2d-21              [-1, 8, 7, 7]             584\n",
      "             ReLU-22              [-1, 8, 7, 7]               0\n",
      "      BatchNorm2d-23              [-1, 8, 7, 7]              16\n",
      "          Dropout-24              [-1, 8, 7, 7]               0\n",
      "           Conv2d-25             [-1, 16, 5, 5]           1,168\n",
      "             ReLU-26             [-1, 16, 5, 5]               0\n",
      "      BatchNorm2d-27             [-1, 16, 5, 5]              32\n",
      "          Dropout-28             [-1, 16, 5, 5]               0\n",
      "        AvgPool2d-29             [-1, 16, 1, 1]               0\n",
      "           Conv2d-30             [-1, 10, 1, 1]             170\n",
      "================================================================\n",
      "Total params: 7,066\n",
      "Trainable params: 7,066\n",
      "Non-trainable params: 0\n",
      "----------------------------------------------------------------\n",
      "Input size (MB): 0.00\n",
      "Forward/backward pass size (MB): 0.79\n",
      "Params size (MB): 0.03\n",
      "Estimated Total Size (MB): 0.82\n",
      "----------------------------------------------------------------\n"
     ]
    }
   ],
   "source": [
    "use_cuda = torch.cuda.is_available()\n",
    "device = torch.device(\"cuda\" if use_cuda else \"cpu\")\n",
    "print(device)\n",
    "model = Model_4().to(device)\n",
    "summary(model, input_size=(1, 28, 28))"
   ]
  },
  {
   "cell_type": "code",
   "execution_count": 3,
   "metadata": {},
   "outputs": [],
   "source": [
    "torch.manual_seed(1)\n",
    "batch_size = 128\n",
    "\n",
    "kwargs = {'num_workers': 1, 'pin_memory': True} if use_cuda else {}\n",
    "train_loader = torch.utils.data.DataLoader(\n",
    "    datasets.MNIST('../data', train=True, download=True,\n",
    "                    transform=transforms.Compose([\n",
    "                        transforms.ToTensor(),\n",
    "                        transforms.Normalize((0.1307,), (0.3081,))\n",
    "                    ])),\n",
    "    batch_size=batch_size, shuffle=True, **kwargs)\n",
    "test_loader = torch.utils.data.DataLoader(\n",
    "    datasets.MNIST('../data', train=False, transform=transforms.Compose([\n",
    "                        transforms.ToTensor(),\n",
    "                        transforms.Normalize((0.1307,), (0.3081,))\n",
    "                    ])),\n",
    "    batch_size=batch_size, shuffle=True, **kwargs)"
   ]
  },
  {
   "cell_type": "code",
   "execution_count": 4,
   "metadata": {},
   "outputs": [
    {
     "name": "stderr",
     "output_type": "stream",
     "text": [
      "Train: Loss=0.1880 Batch_id=468 Accuracy=83.90: 100%|██████████| 469/469 [00:24<00:00, 19.32it/s]\n"
     ]
    },
    {
     "name": "stdout",
     "output_type": "stream",
     "text": [
      "Train set: Accuracy: 83.90%\n",
      "Test set: Accuracy: 93.42%\n",
      "0.01 2\n"
     ]
    },
    {
     "name": "stderr",
     "output_type": "stream",
     "text": [
      "Train: Loss=0.0908 Batch_id=468 Accuracy=96.78: 100%|██████████| 469/469 [00:24<00:00, 19.52it/s]\n"
     ]
    },
    {
     "name": "stdout",
     "output_type": "stream",
     "text": [
      "Train set: Accuracy: 96.78%\n",
      "Test set: Accuracy: 93.88%\n",
      "0.01 3\n"
     ]
    },
    {
     "name": "stderr",
     "output_type": "stream",
     "text": [
      "Train: Loss=0.0530 Batch_id=468 Accuracy=97.47: 100%|██████████| 469/469 [00:22<00:00, 20.59it/s]\n"
     ]
    },
    {
     "name": "stdout",
     "output_type": "stream",
     "text": [
      "Train set: Accuracy: 97.47%\n",
      "Test set: Accuracy: 98.10%\n",
      "0.01 4\n"
     ]
    },
    {
     "name": "stderr",
     "output_type": "stream",
     "text": [
      "Train: Loss=0.0991 Batch_id=468 Accuracy=97.86: 100%|██████████| 469/469 [00:22<00:00, 20.84it/s]\n"
     ]
    },
    {
     "name": "stdout",
     "output_type": "stream",
     "text": [
      "Train set: Accuracy: 97.86%\n",
      "Test set: Accuracy: 98.34%\n",
      "0.01 5\n"
     ]
    },
    {
     "name": "stderr",
     "output_type": "stream",
     "text": [
      "Train: Loss=0.0595 Batch_id=468 Accuracy=98.04: 100%|██████████| 469/469 [00:20<00:00, 23.00it/s]\n"
     ]
    },
    {
     "name": "stdout",
     "output_type": "stream",
     "text": [
      "Train set: Accuracy: 98.04%\n",
      "Test set: Accuracy: 98.66%\n",
      "0.01 6\n"
     ]
    },
    {
     "name": "stderr",
     "output_type": "stream",
     "text": [
      "Train: Loss=0.0619 Batch_id=468 Accuracy=98.17: 100%|██████████| 469/469 [00:19<00:00, 24.00it/s]\n"
     ]
    },
    {
     "name": "stdout",
     "output_type": "stream",
     "text": [
      "Train set: Accuracy: 98.17%\n",
      "Test set: Accuracy: 98.50%\n",
      "0.01 7\n"
     ]
    },
    {
     "name": "stderr",
     "output_type": "stream",
     "text": [
      "Train: Loss=0.0181 Batch_id=468 Accuracy=98.29: 100%|██████████| 469/469 [00:21<00:00, 21.73it/s]\n"
     ]
    },
    {
     "name": "stdout",
     "output_type": "stream",
     "text": [
      "Train set: Accuracy: 98.29%\n",
      "Test set: Accuracy: 98.64%\n",
      "0.01 8\n"
     ]
    },
    {
     "name": "stderr",
     "output_type": "stream",
     "text": [
      "Train: Loss=0.0281 Batch_id=468 Accuracy=98.29: 100%|██████████| 469/469 [00:20<00:00, 22.80it/s]\n"
     ]
    },
    {
     "name": "stdout",
     "output_type": "stream",
     "text": [
      "Train set: Accuracy: 98.29%\n",
      "Test set: Accuracy: 99.06%\n",
      "0.01 9\n"
     ]
    },
    {
     "name": "stderr",
     "output_type": "stream",
     "text": [
      "Train: Loss=0.0477 Batch_id=468 Accuracy=98.39: 100%|██████████| 469/469 [00:19<00:00, 24.46it/s]\n"
     ]
    },
    {
     "name": "stdout",
     "output_type": "stream",
     "text": [
      "Train set: Accuracy: 98.39%\n",
      "Test set: Accuracy: 98.70%\n",
      "0.01 10\n"
     ]
    },
    {
     "name": "stderr",
     "output_type": "stream",
     "text": [
      "Train: Loss=0.0402 Batch_id=468 Accuracy=98.44: 100%|██████████| 469/469 [00:20<00:00, 23.41it/s]\n"
     ]
    },
    {
     "name": "stdout",
     "output_type": "stream",
     "text": [
      "Train set: Accuracy: 98.44%\n",
      "Test set: Accuracy: 99.08%\n",
      "0.01 11\n"
     ]
    },
    {
     "name": "stderr",
     "output_type": "stream",
     "text": [
      "Train: Loss=0.0225 Batch_id=468 Accuracy=98.50: 100%|██████████| 469/469 [00:19<00:00, 23.55it/s]\n"
     ]
    },
    {
     "name": "stdout",
     "output_type": "stream",
     "text": [
      "Train set: Accuracy: 98.50%\n",
      "Test set: Accuracy: 98.95%\n",
      "0.01 12\n"
     ]
    },
    {
     "name": "stderr",
     "output_type": "stream",
     "text": [
      "Train: Loss=0.0552 Batch_id=468 Accuracy=98.59: 100%|██████████| 469/469 [00:20<00:00, 23.39it/s]\n"
     ]
    },
    {
     "name": "stdout",
     "output_type": "stream",
     "text": [
      "Train set: Accuracy: 98.59%\n",
      "Test set: Accuracy: 99.12%\n",
      "0.001 13\n"
     ]
    },
    {
     "name": "stderr",
     "output_type": "stream",
     "text": [
      "Train: Loss=0.0377 Batch_id=468 Accuracy=98.80: 100%|██████████| 469/469 [00:19<00:00, 23.97it/s]\n"
     ]
    },
    {
     "name": "stdout",
     "output_type": "stream",
     "text": [
      "Train set: Accuracy: 98.80%\n",
      "Test set: Accuracy: 99.19%\n",
      "0.001 14\n"
     ]
    },
    {
     "name": "stderr",
     "output_type": "stream",
     "text": [
      "Train: Loss=0.0160 Batch_id=468 Accuracy=98.78: 100%|██████████| 469/469 [00:19<00:00, 24.14it/s]\n"
     ]
    },
    {
     "name": "stdout",
     "output_type": "stream",
     "text": [
      "Train set: Accuracy: 98.78%\n",
      "Test set: Accuracy: 99.28%\n",
      "0.001 15\n"
     ]
    }
   ],
   "source": [
    "model_2 = Model_4().to(device)\n",
    "optimizer = optim.SGD(model.parameters(), lr=0.01, momentum=0.9)\n",
    "scheduler = torch.optim.lr_scheduler.ExponentialLR(optimizer, gamma = 0.1)\n",
    "criterion = F.nll_loss\n",
    "\n",
    "# Data to plot accuracy and loss graphs\n",
    "train_losses = []\n",
    "test_losses = []\n",
    "train_acc = []\n",
    "test_acc = []\n",
    "for epoch in range(1, 15):\n",
    "    train_acc,train_losses = train(model, device, train_loader, optimizer, criterion, train_acc, train_losses)\n",
    "    test_acc, test_losses = test(model, device, test_loader, criterion, test_acc, test_losses)\n",
    "    if(epoch==12):\n",
    "      scheduler.step()\n",
    "    for param_group in optimizer.param_groups:\n",
    "      print(param_group['lr'],epoch+1)"
   ]
  },
  {
   "cell_type": "code",
   "execution_count": null,
   "metadata": {},
   "outputs": [],
   "source": []
  }
 ],
 "metadata": {
  "kernelspec": {
   "display_name": "base",
   "language": "python",
   "name": "python3"
  },
  "language_info": {
   "codemirror_mode": {
    "name": "ipython",
    "version": 3
   },
   "file_extension": ".py",
   "mimetype": "text/x-python",
   "name": "python",
   "nbconvert_exporter": "python",
   "pygments_lexer": "ipython3",
   "version": "3.9.16"
  },
  "orig_nbformat": 4
 },
 "nbformat": 4,
 "nbformat_minor": 2
}
